{
 "cells": [
  {
   "cell_type": "code",
   "execution_count": 1,
   "metadata": {},
   "outputs": [],
   "source": [
    "import stratfight\n",
    "hero = stratfight.Character()\n"
   ]
  },
  {
   "cell_type": "code",
   "execution_count": 2,
   "metadata": {},
   "outputs": [
    {
     "name": "stdout",
     "output_type": "stream",
     "text": [
      "0\n"
     ]
    }
   ],
   "source": [
    "print(hero.attributes.strength)"
   ]
  },
  {
   "cell_type": "code",
   "execution_count": 3,
   "metadata": {},
   "outputs": [
    {
     "name": "stdout",
     "output_type": "stream",
     "text": [
      "{<InjurySeverity.UNDAMAGED: 0>: 0, <InjurySeverity.BRUISED: 1>: 0, <InjurySeverity.BEATENUP: 2>: 0, <InjurySeverity.CRIPPLED: 3>: 0, <InjurySeverity.DEAD: 4>: 0}\n"
     ]
    }
   ],
   "source": [
    "alloc = stratfight.InjurySeverityAllocation()\n",
    "print(alloc.points)\n",
    "    "
   ]
  },
  {
   "cell_type": "code",
   "execution_count": 5,
   "metadata": {},
   "outputs": [
    {
     "data": {
      "text/plain": [
       "{<InjurySeverity.UNDAMAGED: 0>: 0,\n",
       " <InjurySeverity.BRUISED: 1>: 4,\n",
       " <InjurySeverity.BEATENUP: 2>: 4,\n",
       " <InjurySeverity.CRIPPLED: 3>: 4,\n",
       " <InjurySeverity.DEAD: 4>: 2}"
      ]
     },
     "execution_count": 5,
     "metadata": {},
     "output_type": "execute_result"
    }
   ],
   "source": [
    "(stratfight.Weapon.SAMPLES.fists.allocation + stratfight.Weapon.SAMPLES.bow.allocation).points"
   ]
  }
 ],
 "metadata": {
  "kernelspec": {
   "display_name": "Python 3",
   "language": "python",
   "name": "python3"
  },
  "language_info": {
   "codemirror_mode": {
    "name": "ipython",
    "version": 3
   },
   "file_extension": ".py",
   "mimetype": "text/x-python",
   "name": "python",
   "nbconvert_exporter": "python",
   "pygments_lexer": "ipython3",
   "version": "3.6.7"
  }
 },
 "nbformat": 4,
 "nbformat_minor": 2
}
